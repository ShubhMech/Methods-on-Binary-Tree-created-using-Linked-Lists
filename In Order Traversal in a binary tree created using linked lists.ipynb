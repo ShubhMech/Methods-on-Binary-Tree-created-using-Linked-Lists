{
 "cells": [
  {
   "cell_type": "code",
   "execution_count": 4,
   "id": "3268e131-117a-4481-acc2-950a297d6c57",
   "metadata": {},
   "outputs": [],
   "source": [
    "class Tree:\n",
    "    def __init__(self,data):\n",
    "        self.data=data\n",
    "        self.left=None\n",
    "        self.right=None\n",
    "        \n",
    "    "
   ]
  },
  {
   "cell_type": "code",
   "execution_count": 6,
   "id": "e1ba24f3-9479-4dc5-aabd-d9ecd100a9b3",
   "metadata": {},
   "outputs": [],
   "source": [
    "root=Tree(\"Drinks\")\n"
   ]
  },
  {
   "cell_type": "code",
   "execution_count": 7,
   "id": "b047c2e6-a0c6-4ba9-ab0a-885715d71112",
   "metadata": {},
   "outputs": [],
   "source": [
    "hot=Tree(\"Hot\")"
   ]
  },
  {
   "cell_type": "code",
   "execution_count": 8,
   "id": "98b36c70-a0b1-45e6-b670-bd8478f68405",
   "metadata": {},
   "outputs": [],
   "source": [
    "cold=Tree(\"Cold\")"
   ]
  },
  {
   "cell_type": "code",
   "execution_count": 9,
   "id": "9a2b59ff-d498-46b6-9c9b-f979949411e6",
   "metadata": {},
   "outputs": [],
   "source": [
    "root.left=hot\n",
    "root.right=cold"
   ]
  },
  {
   "cell_type": "code",
   "execution_count": 14,
   "id": "df001603-ea4e-429e-bc7c-6666e72c7511",
   "metadata": {},
   "outputs": [],
   "source": [
    "coffee=Tree(\"Coffee\")\n",
    "tea=Tree(\"Tea\")"
   ]
  },
  {
   "cell_type": "code",
   "execution_count": 15,
   "id": "6ae3cb62-5485-412d-996f-d70641f2ffa0",
   "metadata": {},
   "outputs": [],
   "source": [
    "cold_drink=Tree(\"Cold-drink\")\n",
    "sharbat=Tree(\"Sharbat\")"
   ]
  },
  {
   "cell_type": "code",
   "execution_count": 17,
   "id": "454b6b5e-cf7c-413a-ba71-eee274d26c5c",
   "metadata": {},
   "outputs": [],
   "source": [
    "hot.left=coffee\n",
    "hot.right=tea"
   ]
  },
  {
   "cell_type": "code",
   "execution_count": 18,
   "id": "572dcad8-b3e6-429c-b7e3-6e3b8e7bb0ae",
   "metadata": {},
   "outputs": [],
   "source": [
    "cold.left=sharbat\n",
    "cold.right=cold_drink"
   ]
  },
  {
   "cell_type": "code",
   "execution_count": 19,
   "id": "f89348b8-d386-43a6-88a1-ae2d2dc78e8c",
   "metadata": {},
   "outputs": [],
   "source": [
    "def tree_traversal(node):\n",
    "    if not node:\n",
    "        return\n",
    "    print(\"The value at current node is: \", node.data)\n",
    "    \n",
    "    tree_traversal(node.left)\n",
    "    tree_traversal(node.right)"
   ]
  },
  {
   "cell_type": "code",
   "execution_count": 20,
   "id": "7706f91a-a5f9-49cd-93a7-0458a0e31fa1",
   "metadata": {},
   "outputs": [
    {
     "name": "stdout",
     "output_type": "stream",
     "text": [
      "The value at current node is:  Drinks\n",
      "The value at current node is:  Hot\n",
      "The value at current node is:  Coffee\n",
      "The value at current node is:  Tea\n",
      "The value at current node is:  Cold\n",
      "The value at current node is:  Sharbat\n",
      "The value at current node is:  Cold-drink\n"
     ]
    }
   ],
   "source": [
    "tree_traversal(root)"
   ]
  },
  {
   "cell_type": "code",
   "execution_count": 23,
   "id": "382e408f-17bd-4113-b67f-5f1ad40f15c2",
   "metadata": {},
   "outputs": [],
   "source": [
    "def inorder_traversal(node):\n",
    "    if not node:\n",
    "        return\n",
    "    inorder_traversal(node.left)\n",
    "    print(\"The value at current node is: \", node.data)\n",
    "    inorder_traversal(node.right)"
   ]
  },
  {
   "cell_type": "code",
   "execution_count": 24,
   "id": "ac268b1a-14c4-4bde-b606-b420f5846041",
   "metadata": {},
   "outputs": [
    {
     "name": "stdout",
     "output_type": "stream",
     "text": [
      "The value at current node is:  Coffee\n",
      "The value at current node is:  Hot\n",
      "The value at current node is:  Tea\n",
      "The value at current node is:  Drinks\n",
      "The value at current node is:  Sharbat\n",
      "The value at current node is:  Cold\n",
      "The value at current node is:  Cold-drink\n"
     ]
    }
   ],
   "source": [
    "inorder_traversal(root)"
   ]
  },
  {
   "cell_type": "code",
   "execution_count": null,
   "id": "e929e1bf-90c7-408d-a40c-5ccd7c2eade7",
   "metadata": {},
   "outputs": [],
   "source": []
  }
 ],
 "metadata": {
  "kernelspec": {
   "display_name": "Python 3",
   "language": "python",
   "name": "python3"
  },
  "language_info": {
   "codemirror_mode": {
    "name": "ipython",
    "version": 3
   },
   "file_extension": ".py",
   "mimetype": "text/x-python",
   "name": "python",
   "nbconvert_exporter": "python",
   "pygments_lexer": "ipython3",
   "version": "3.8.5"
  }
 },
 "nbformat": 4,
 "nbformat_minor": 5
}
