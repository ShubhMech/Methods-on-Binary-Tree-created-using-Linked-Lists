{
 "cells": [
  {
   "cell_type": "code",
   "execution_count": 213,
   "id": "3268e131-117a-4481-acc2-950a297d6c57",
   "metadata": {},
   "outputs": [],
   "source": [
    "class Tree:\n",
    "    def __init__(self,data):\n",
    "        self.data=data\n",
    "        self.left=None\n",
    "        self.right=None\n",
    "        \n",
    "    "
   ]
  },
  {
   "cell_type": "code",
   "execution_count": 214,
   "id": "e1ba24f3-9479-4dc5-aabd-d9ecd100a9b3",
   "metadata": {},
   "outputs": [],
   "source": [
    "root=Tree(\"Drinks\")\n"
   ]
  },
  {
   "cell_type": "code",
   "execution_count": 215,
   "id": "b047c2e6-a0c6-4ba9-ab0a-885715d71112",
   "metadata": {},
   "outputs": [],
   "source": [
    "hot=Tree(\"Hot\")"
   ]
  },
  {
   "cell_type": "code",
   "execution_count": 216,
   "id": "98b36c70-a0b1-45e6-b670-bd8478f68405",
   "metadata": {},
   "outputs": [],
   "source": [
    "cold=Tree(\"Cold\")"
   ]
  },
  {
   "cell_type": "code",
   "execution_count": 217,
   "id": "9a2b59ff-d498-46b6-9c9b-f979949411e6",
   "metadata": {},
   "outputs": [],
   "source": [
    "root.left=hot\n",
    "root.right=cold"
   ]
  },
  {
   "cell_type": "code",
   "execution_count": 218,
   "id": "df001603-ea4e-429e-bc7c-6666e72c7511",
   "metadata": {},
   "outputs": [],
   "source": [
    "coffee=Tree(\"Coffee\")\n",
    "tea=Tree(\"Tea\")"
   ]
  },
  {
   "cell_type": "code",
   "execution_count": 219,
   "id": "6ae3cb62-5485-412d-996f-d70641f2ffa0",
   "metadata": {},
   "outputs": [],
   "source": [
    "cold_drink=Tree(\"Cold-drink\")\n",
    "sharbat=Tree(\"Sharbat\")"
   ]
  },
  {
   "cell_type": "code",
   "execution_count": 220,
   "id": "454b6b5e-cf7c-413a-ba71-eee274d26c5c",
   "metadata": {},
   "outputs": [],
   "source": [
    "hot.left=coffee\n",
    "hot.right=tea"
   ]
  },
  {
   "cell_type": "code",
   "execution_count": 221,
   "id": "572dcad8-b3e6-429c-b7e3-6e3b8e7bb0ae",
   "metadata": {},
   "outputs": [],
   "source": [
    "cold.left=sharbat\n",
    "cold.right=cold_drink"
   ]
  },
  {
   "cell_type": "code",
   "execution_count": 222,
   "id": "f89348b8-d386-43a6-88a1-ae2d2dc78e8c",
   "metadata": {},
   "outputs": [],
   "source": [
    "def tree_traversal(node):\n",
    "    if not node:\n",
    "        return\n",
    "    print(\"The value at current node is: \", node.data)\n",
    "    \n",
    "    tree_traversal(node.left)\n",
    "    tree_traversal(node.right)"
   ]
  },
  {
   "cell_type": "code",
   "execution_count": 223,
   "id": "7706f91a-a5f9-49cd-93a7-0458a0e31fa1",
   "metadata": {},
   "outputs": [
    {
     "data": {
      "text/plain": [
       "<__main__.Tree at 0x1a12ab89b20>"
      ]
     },
     "execution_count": 223,
     "metadata": {},
     "output_type": "execute_result"
    }
   ],
   "source": [
    "tree_traversal\n",
    "(root)"
   ]
  },
  {
   "cell_type": "code",
   "execution_count": 224,
   "id": "382e408f-17bd-4113-b67f-5f1ad40f15c2",
   "metadata": {},
   "outputs": [],
   "source": [
    "def inorder_traversal(node):\n",
    "    if not node:\n",
    "        return\n",
    "    inorder_traversal(node.left)\n",
    "    print(\"The value at current node is: \", node.data)\n",
    "    inorder_traversal(node.right)"
   ]
  },
  {
   "cell_type": "code",
   "execution_count": 225,
   "id": "ac268b1a-14c4-4bde-b606-b420f5846041",
   "metadata": {},
   "outputs": [
    {
     "name": "stdout",
     "output_type": "stream",
     "text": [
      "The value at current node is:  Coffee\n",
      "The value at current node is:  Hot\n",
      "The value at current node is:  Tea\n",
      "The value at current node is:  Drinks\n",
      "The value at current node is:  Sharbat\n",
      "The value at current node is:  Cold\n",
      "The value at current node is:  Cold-drink\n"
     ]
    }
   ],
   "source": [
    "inorder_traversal(root)"
   ]
  },
  {
   "cell_type": "code",
   "execution_count": 226,
   "id": "e929e1bf-90c7-408d-a40c-5ccd7c2eade7",
   "metadata": {},
   "outputs": [],
   "source": [
    "def post_order_traversal(node):\n",
    "    if not node:\n",
    "        return\n",
    "    inorder_traversal(node.left)\n",
    "    \n",
    "    inorder_traversal(node.right)\n",
    "    \n",
    "    print(\"The value at current node is: \", node.data)"
   ]
  },
  {
   "cell_type": "code",
   "execution_count": 227,
   "id": "653a1818-fff7-4bfb-829e-c1a7a79e9d14",
   "metadata": {},
   "outputs": [
    {
     "name": "stdout",
     "output_type": "stream",
     "text": [
      "The value at current node is:  Coffee\n",
      "The value at current node is:  Hot\n",
      "The value at current node is:  Tea\n",
      "The value at current node is:  Sharbat\n",
      "The value at current node is:  Cold\n",
      "The value at current node is:  Cold-drink\n",
      "The value at current node is:  Drinks\n"
     ]
    }
   ],
   "source": [
    "post_order_traversal(root)"
   ]
  },
  {
   "cell_type": "code",
   "execution_count": 228,
   "id": "62924547-cc71-4fca-9e7e-29c6d6c91230",
   "metadata": {},
   "outputs": [],
   "source": [
    "class Nodes:\n",
    "    def __init__(self,value):\n",
    "        self.value=value\n",
    "        self.next=None\n",
    "        \n",
    "class Linked_List:\n",
    "    def __init__(self):\n",
    "        self.head=None\n",
    "        self.tail=None\n",
    "\n",
    "class Queue:\n",
    "    def __init__(self):\n",
    "        self.items=Linked_List()\n",
    "        \n",
    "    def enqueue(self,value):\n",
    "        node=Nodes(value)\n",
    "        if self.items.head is not None:\n",
    "        \n",
    "            self.items.tail.next=node\n",
    "            self.items.tail=node\n",
    "            \n",
    "        else:\n",
    "            self.items.head=node\n",
    "            self.items.tail=node\n",
    "            \n",
    "    def is_empty(self):\n",
    "        if self.items.head is None:\n",
    "            return True\n",
    "        else:\n",
    "            return False\n",
    "    \n",
    "    \n",
    "    def dequeue(self):\n",
    "        if self.is_empty():\n",
    "            return \"Can't dequeue, dumbass!\"\n",
    "        else:\n",
    "            temp=self.items.head\n",
    "#             temp1=temp\n",
    "            \n",
    "            if self.items.head==self.items.tail:\n",
    "                \n",
    "                self.items.tail=None\n",
    "                self.items.head=None\n",
    "                \n",
    "            else:\n",
    "                self.items.head=self.items.head.next\n",
    "                \n",
    "            return temp\n",
    "    \n",
    "    def peep(self):\n",
    "        if self.is_empty():\n",
    "            return \"Can't peep, dumbass!\"\n",
    "        else:\n",
    "            return self.items.head.value\n",
    "            \n",
    "    def delete(self):\n",
    "        if self.is_empty():\n",
    "            return \"Can't delete, dumbass!\"\n",
    "        else:\n",
    "            self.items.head, self.items.tail=None\n",
    "            return self.items.head.value"
   ]
  },
  {
   "cell_type": "code",
   "execution_count": null,
   "id": "46be4740-209a-4da8-97e4-94359f915061",
   "metadata": {},
   "outputs": [],
   "source": []
  },
  {
   "cell_type": "code",
   "execution_count": null,
   "id": "47ec3b08-348e-4263-8b20-f5e4deba549d",
   "metadata": {},
   "outputs": [],
   "source": []
  },
  {
   "cell_type": "code",
   "execution_count": 229,
   "id": "499dbce4-c1dc-4359-aa75-b00e7641d550",
   "metadata": {},
   "outputs": [],
   "source": [
    "list1=[]\n",
    "def level_order(root,list1):\n",
    "    \n",
    "    if not root:\n",
    "        return\n",
    "    else:\n",
    "        list1.append(root.data)\n",
    "        if not root:\n",
    "            return\n",
    "        if len(list1) ==1:\n",
    "            print(root.data)\n",
    "            \n",
    "            \n",
    "        if root.left is not None:\n",
    "            print(root.left.data)\n",
    "        if root.right is not None:\n",
    "            print(root.right.data)\n",
    "            \n",
    "        level_order(root.left,list1)\n",
    "        level_order(root.right,list1)"
   ]
  },
  {
   "cell_type": "code",
   "execution_count": 230,
   "id": "f0a83532-9bb6-48d6-8a27-d21f64284c4a",
   "metadata": {},
   "outputs": [
    {
     "name": "stdout",
     "output_type": "stream",
     "text": [
      "Drinks\n",
      "Hot\n",
      "Cold\n",
      "Coffee\n",
      "Tea\n",
      "Sharbat\n",
      "Cold-drink\n"
     ]
    }
   ],
   "source": [
    "level_order(root,list1)"
   ]
  },
  {
   "cell_type": "code",
   "execution_count": 231,
   "id": "eef725fb-699e-4516-951f-713371f3a349",
   "metadata": {},
   "outputs": [],
   "source": [
    "def level_order(root):\n",
    "    if not root:\n",
    "        return \n",
    "    else:\n",
    "        q=Queue()\n",
    "        q.enqueue(root)\n",
    "        while not q.is_empty():\n",
    "\n",
    "            root=q.dequeue()\n",
    "            print(root.value.data)\n",
    "            if root.value.left is not None:\n",
    "                q.enqueue(root.value.left)\n",
    "                \n",
    "            if root.value.right is not None:\n",
    "                q.enqueue(root.value.right)\n",
    "        \n",
    "    "
   ]
  },
  {
   "cell_type": "code",
   "execution_count": 232,
   "id": "0be03dbe-d9b5-4fa3-bc8b-a0f412a38103",
   "metadata": {},
   "outputs": [
    {
     "name": "stdout",
     "output_type": "stream",
     "text": [
      "Drinks\n",
      "Hot\n",
      "Cold\n",
      "Coffee\n",
      "Tea\n",
      "Sharbat\n",
      "Cold-drink\n"
     ]
    }
   ],
   "source": [
    "level_order(root)"
   ]
  },
  {
   "cell_type": "code",
   "execution_count": 233,
   "id": "389c2538-ddd1-470d-976e-b6bd8f4f40d1",
   "metadata": {},
   "outputs": [],
   "source": [
    "q=Queue()"
   ]
  },
  {
   "cell_type": "code",
   "execution_count": 234,
   "id": "cd00c9ef-8724-4e47-9786-ecfc6f953055",
   "metadata": {},
   "outputs": [],
   "source": [
    "q.enqueue(root)"
   ]
  },
  {
   "cell_type": "code",
   "execution_count": 235,
   "id": "4a988cff-04c5-4325-b944-e1356f47c798",
   "metadata": {},
   "outputs": [
    {
     "data": {
      "text/plain": [
       "<__main__.Tree at 0x1a12ab89b20>"
      ]
     },
     "execution_count": 235,
     "metadata": {},
     "output_type": "execute_result"
    }
   ],
   "source": [
    "q.items.head.value"
   ]
  },
  {
   "cell_type": "code",
   "execution_count": 236,
   "id": "a3adab1d-479b-4468-8a68-6c893176e871",
   "metadata": {},
   "outputs": [],
   "source": [
    "def search_bin(root,val):\n",
    "    if not root:\n",
    "        return \"The bin tree doesn't exist!\"\n",
    "    else:\n",
    "        q=Queue()\n",
    "        q.enqueue(root)\n",
    "        while not q.is_empty():\n",
    "\n",
    "            root=q.dequeue()\n",
    "            if root.value.data==val:\n",
    "                print(\"The value is found and it is: \")\n",
    "                print(root.value.data)\n",
    "                break\n",
    "            if root.value.left is not None:\n",
    "                q.enqueue(root.value.left)\n",
    "                \n",
    "            if root.value.right is not None:\n",
    "                q.enqueue(root.value.right)"
   ]
  },
  {
   "cell_type": "code",
   "execution_count": 237,
   "id": "700c9bda-564f-4733-b90c-ff7910639c98",
   "metadata": {},
   "outputs": [
    {
     "name": "stdout",
     "output_type": "stream",
     "text": [
      "The value is found and it is: \n",
      "Tea\n"
     ]
    }
   ],
   "source": [
    "search_bin(root,\"Tea\")"
   ]
  },
  {
   "cell_type": "code",
   "execution_count": 238,
   "id": "c0d7e337-f0ca-4f65-8e4e-44bf03186b9d",
   "metadata": {},
   "outputs": [],
   "source": [
    "def insertion(root,val):\n",
    "    if not root:\n",
    "        return \n",
    "    else:\n",
    "        q=Queue()\n",
    "        q.enqueue(root)\n",
    "        while not q.is_empty():\n",
    "\n",
    "            root=q.dequeue()\n",
    "#             print(root.value.data)\n",
    "            \n",
    "            if root.value.left == None:\n",
    "                root.value.left=Tree(val)\n",
    "                print(\"Value inserted at the desired location\")\n",
    "                break\n",
    "                \n",
    "            \n",
    "                \n",
    "            else:\n",
    "                q.enqueue(root.value.left)\n",
    "\n",
    "            if root.value.right == None:\n",
    "                root.value.right=Tree(val)\n",
    "                break\n",
    "            \n",
    "            else:\n",
    "                q.enqueue(root.value.right)\n",
    "                \n",
    "                \n"
   ]
  },
  {
   "cell_type": "code",
   "execution_count": 239,
   "id": "3b383830-35ae-4557-b54a-4657554f28b7",
   "metadata": {},
   "outputs": [
    {
     "name": "stdout",
     "output_type": "stream",
     "text": [
      "Value inserted at the desired location\n"
     ]
    }
   ],
   "source": [
    "insertion(root,\"Mahatma\")"
   ]
  },
  {
   "cell_type": "code",
   "execution_count": 240,
   "id": "0913c737-353d-4d85-a1c9-130225ed5833",
   "metadata": {},
   "outputs": [
    {
     "name": "stdout",
     "output_type": "stream",
     "text": [
      "Drinks\n",
      "Hot\n",
      "Cold\n",
      "Coffee\n",
      "Tea\n",
      "Sharbat\n",
      "Cold-drink\n",
      "Mahatma\n"
     ]
    }
   ],
   "source": [
    "level_order(root)"
   ]
  },
  {
   "cell_type": "code",
   "execution_count": 241,
   "id": "bebf4fd7-5a24-4232-9e4d-99f65b0d0fd8",
   "metadata": {},
   "outputs": [],
   "source": [
    "insertion(root,\"Gandhi\")"
   ]
  },
  {
   "cell_type": "code",
   "execution_count": 242,
   "id": "424b29b1-39ea-40ca-9f57-c48ea9401dc7",
   "metadata": {},
   "outputs": [
    {
     "name": "stdout",
     "output_type": "stream",
     "text": [
      "Drinks\n",
      "Hot\n",
      "Cold\n",
      "Coffee\n",
      "Tea\n",
      "Sharbat\n",
      "Cold-drink\n",
      "Mahatma\n",
      "Gandhi\n"
     ]
    }
   ],
   "source": [
    "level_order(root)"
   ]
  },
  {
   "cell_type": "code",
   "execution_count": null,
   "id": "6728d2da-5b56-40da-8d2d-c5ecda8f3ace",
   "metadata": {},
   "outputs": [],
   "source": []
  }
 ],
 "metadata": {
  "kernelspec": {
   "display_name": "Python 3",
   "language": "python",
   "name": "python3"
  },
  "language_info": {
   "codemirror_mode": {
    "name": "ipython",
    "version": 3
   },
   "file_extension": ".py",
   "mimetype": "text/x-python",
   "name": "python",
   "nbconvert_exporter": "python",
   "pygments_lexer": "ipython3",
   "version": "3.8.5"
  }
 },
 "nbformat": 4,
 "nbformat_minor": 5
}
