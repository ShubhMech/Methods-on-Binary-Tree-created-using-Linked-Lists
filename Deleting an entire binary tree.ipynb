{
 "cells": [
  {
   "cell_type": "code",
   "execution_count": 603,
   "id": "3268e131-117a-4481-acc2-950a297d6c57",
   "metadata": {},
   "outputs": [],
   "source": [
    "class Tree:\n",
    "    def __init__(self,data):\n",
    "        self.data=data\n",
    "        self.left=None\n",
    "        self.right=None\n",
    "\n"
   ]
  },
  {
   "cell_type": "code",
   "execution_count": 604,
   "id": "e1ba24f3-9479-4dc5-aabd-d9ecd100a9b3",
   "metadata": {},
   "outputs": [],
   "source": [
    "root=Tree(\"Drinks\")\n"
   ]
  },
  {
   "cell_type": "code",
   "execution_count": 605,
   "id": "b047c2e6-a0c6-4ba9-ab0a-885715d71112",
   "metadata": {},
   "outputs": [],
   "source": [
    "hot=Tree(\"Hot\")"
   ]
  },
  {
   "cell_type": "code",
   "execution_count": 606,
   "id": "98b36c70-a0b1-45e6-b670-bd8478f68405",
   "metadata": {},
   "outputs": [],
   "source": [
    "cold=Tree(\"Cold\")"
   ]
  },
  {
   "cell_type": "code",
   "execution_count": 607,
   "id": "9a2b59ff-d498-46b6-9c9b-f979949411e6",
   "metadata": {},
   "outputs": [],
   "source": [
    "root.left=hot\n",
    "root.right=cold"
   ]
  },
  {
   "cell_type": "code",
   "execution_count": 608,
   "id": "df001603-ea4e-429e-bc7c-6666e72c7511",
   "metadata": {},
   "outputs": [],
   "source": [
    "coffee=Tree(\"Coffee\")\n",
    "tea=Tree(\"Tea\")"
   ]
  },
  {
   "cell_type": "code",
   "execution_count": 609,
   "id": "6ae3cb62-5485-412d-996f-d70641f2ffa0",
   "metadata": {},
   "outputs": [],
   "source": [
    "cold_drink=Tree(\"Cold-drink\")\n",
    "sharbat=Tree(\"Sharbat\")"
   ]
  },
  {
   "cell_type": "code",
   "execution_count": 610,
   "id": "454b6b5e-cf7c-413a-ba71-eee274d26c5c",
   "metadata": {},
   "outputs": [],
   "source": [
    "hot.left=coffee\n",
    "hot.right=tea"
   ]
  },
  {
   "cell_type": "code",
   "execution_count": 611,
   "id": "572dcad8-b3e6-429c-b7e3-6e3b8e7bb0ae",
   "metadata": {},
   "outputs": [],
   "source": [
    "cold.left=sharbat\n",
    "cold.right=cold_drink"
   ]
  },
  {
   "cell_type": "code",
   "execution_count": 612,
   "id": "f89348b8-d386-43a6-88a1-ae2d2dc78e8c",
   "metadata": {},
   "outputs": [],
   "source": [
    "def tree_traversal(node):\n",
    "    if not node:\n",
    "        return\n",
    "    print(\"The value at current node is: \", node.data)\n",
    "    \n",
    "    tree_traversal(node.left)\n",
    "    tree_traversal(node.right)"
   ]
  },
  {
   "cell_type": "code",
   "execution_count": 613,
   "id": "7706f91a-a5f9-49cd-93a7-0458a0e31fa1",
   "metadata": {},
   "outputs": [
    {
     "data": {
      "text/plain": [
       "<__main__.Tree at 0x1cd03b6fe50>"
      ]
     },
     "execution_count": 613,
     "metadata": {},
     "output_type": "execute_result"
    }
   ],
   "source": [
    "tree_traversal\n",
    "(root)"
   ]
  },
  {
   "cell_type": "code",
   "execution_count": 614,
   "id": "382e408f-17bd-4113-b67f-5f1ad40f15c2",
   "metadata": {},
   "outputs": [],
   "source": [
    "def inorder_traversal(node):\n",
    "    if not node:\n",
    "        return\n",
    "    inorder_traversal(node.left)\n",
    "    print(\"The value at current node is: \", node.data, node)\n",
    "    inorder_traversal(node.right)"
   ]
  },
  {
   "cell_type": "code",
   "execution_count": 615,
   "id": "ac268b1a-14c4-4bde-b606-b420f5846041",
   "metadata": {},
   "outputs": [
    {
     "name": "stdout",
     "output_type": "stream",
     "text": [
      "The value at current node is:  Coffee <__main__.Tree object at 0x000001CD03B753D0>\n",
      "The value at current node is:  Hot <__main__.Tree object at 0x000001CD03B6FFA0>\n",
      "The value at current node is:  Tea <__main__.Tree object at 0x000001CD03B756A0>\n",
      "The value at current node is:  Drinks <__main__.Tree object at 0x000001CD03B6FE50>\n",
      "The value at current node is:  Sharbat <__main__.Tree object at 0x000001CD03B75EE0>\n",
      "The value at current node is:  Cold <__main__.Tree object at 0x000001CD03B6FF40>\n",
      "The value at current node is:  Cold-drink <__main__.Tree object at 0x000001CD03B75E20>\n"
     ]
    }
   ],
   "source": [
    "inorder_traversal(root)"
   ]
  },
  {
   "cell_type": "code",
   "execution_count": 616,
   "id": "e929e1bf-90c7-408d-a40c-5ccd7c2eade7",
   "metadata": {},
   "outputs": [],
   "source": [
    "def post_order_traversal(node):\n",
    "    if not node:\n",
    "        return\n",
    "    inorder_traversal(node.left)\n",
    "    \n",
    "    inorder_traversal(node.right)\n",
    "    \n",
    "    print(\"The value at current node is: \", node.data)"
   ]
  },
  {
   "cell_type": "code",
   "execution_count": 617,
   "id": "653a1818-fff7-4bfb-829e-c1a7a79e9d14",
   "metadata": {},
   "outputs": [
    {
     "name": "stdout",
     "output_type": "stream",
     "text": [
      "The value at current node is:  Coffee <__main__.Tree object at 0x000001CD03B753D0>\n",
      "The value at current node is:  Hot <__main__.Tree object at 0x000001CD03B6FFA0>\n",
      "The value at current node is:  Tea <__main__.Tree object at 0x000001CD03B756A0>\n",
      "The value at current node is:  Sharbat <__main__.Tree object at 0x000001CD03B75EE0>\n",
      "The value at current node is:  Cold <__main__.Tree object at 0x000001CD03B6FF40>\n",
      "The value at current node is:  Cold-drink <__main__.Tree object at 0x000001CD03B75E20>\n",
      "The value at current node is:  Drinks\n"
     ]
    }
   ],
   "source": [
    "post_order_traversal(root)"
   ]
  },
  {
   "cell_type": "code",
   "execution_count": 618,
   "id": "62924547-cc71-4fca-9e7e-29c6d6c91230",
   "metadata": {},
   "outputs": [],
   "source": [
    "class Nodes:\n",
    "    def __init__(self,value):\n",
    "        self.value=value\n",
    "        self.next=None\n",
    "        \n",
    "class Linked_List:\n",
    "    def __init__(self):\n",
    "        self.head=None\n",
    "        self.tail=None\n",
    "\n",
    "class Queue:\n",
    "    def __init__(self):\n",
    "        self.items=Linked_List()\n",
    "        \n",
    "    def enqueue(self,value):\n",
    "        node=Nodes(value)\n",
    "        if self.items.head is not None:\n",
    "        \n",
    "            self.items.tail.next=node\n",
    "            self.items.tail=node\n",
    "            \n",
    "        else:\n",
    "            self.items.head=node\n",
    "            self.items.tail=node\n",
    "            \n",
    "    def is_empty(self):\n",
    "        if self.items.head is None:\n",
    "            return True\n",
    "        else:\n",
    "            return False\n",
    "    \n",
    "    \n",
    "    def dequeue(self):\n",
    "        if self.is_empty():\n",
    "            return \"Can't dequeue, dumbass!\"\n",
    "        else:\n",
    "            temp=self.items.head\n",
    "#             temp1=temp\n",
    "            \n",
    "            if self.items.head==self.items.tail:\n",
    "                \n",
    "                self.items.tail=None\n",
    "                self.items.head=None\n",
    "                \n",
    "            else:\n",
    "                self.items.head=self.items.head.next\n",
    "                \n",
    "            return temp\n",
    "    \n",
    "    def peep(self):\n",
    "        if self.is_empty():\n",
    "            return \"Can't peep, dumbass!\"\n",
    "        else:\n",
    "            return self.items.head.value\n",
    "            \n",
    "    def delete(self):\n",
    "        if self.is_empty():\n",
    "            return \"Can't delete, dumbass!\"\n",
    "        else:\n",
    "            self.items.head, self.items.tail=None\n",
    "            return self.items.head.value"
   ]
  },
  {
   "cell_type": "code",
   "execution_count": 619,
   "id": "eef725fb-699e-4516-951f-713371f3a349",
   "metadata": {},
   "outputs": [],
   "source": [
    "def level_order(root):\n",
    "    if not root:\n",
    "        return \n",
    "    else:\n",
    "        q=Queue()\n",
    "        q.enqueue(root)\n",
    "        while not q.is_empty():\n",
    "\n",
    "            root_=q.dequeue()\n",
    "            print(root_.value.data)\n",
    "            if root_.value.left is not None:\n",
    "                q.enqueue(root_.value.left)\n",
    "                \n",
    "            if root_.value.right is not None:\n",
    "                q.enqueue(root_.value.right)\n",
    "        \n",
    "    "
   ]
  },
  {
   "cell_type": "code",
   "execution_count": 620,
   "id": "0be03dbe-d9b5-4fa3-bc8b-a0f412a38103",
   "metadata": {},
   "outputs": [
    {
     "name": "stdout",
     "output_type": "stream",
     "text": [
      "Drinks\n",
      "Hot\n",
      "Cold\n",
      "Coffee\n",
      "Tea\n",
      "Sharbat\n",
      "Cold-drink\n"
     ]
    }
   ],
   "source": [
    "level_order(root)"
   ]
  },
  {
   "cell_type": "code",
   "execution_count": 621,
   "id": "389c2538-ddd1-470d-976e-b6bd8f4f40d1",
   "metadata": {},
   "outputs": [],
   "source": [
    "q=Queue()"
   ]
  },
  {
   "cell_type": "code",
   "execution_count": 622,
   "id": "cd00c9ef-8724-4e47-9786-ecfc6f953055",
   "metadata": {},
   "outputs": [],
   "source": [
    "q.enqueue(root)"
   ]
  },
  {
   "cell_type": "code",
   "execution_count": 623,
   "id": "4a988cff-04c5-4325-b944-e1356f47c798",
   "metadata": {},
   "outputs": [
    {
     "data": {
      "text/plain": [
       "<__main__.Tree at 0x1cd03b6fe50>"
      ]
     },
     "execution_count": 623,
     "metadata": {},
     "output_type": "execute_result"
    }
   ],
   "source": [
    "q.items.head.value"
   ]
  },
  {
   "cell_type": "code",
   "execution_count": 624,
   "id": "a3adab1d-479b-4468-8a68-6c893176e871",
   "metadata": {},
   "outputs": [],
   "source": [
    "def search_bin(root,val):\n",
    "    if not root:\n",
    "        return \"The bin tree doesn't exist!\"\n",
    "    else:\n",
    "        q=Queue()\n",
    "        q.enqueue(root)\n",
    "        while not q.is_empty():\n",
    "\n",
    "            root_=q.dequeue()\n",
    "            if root_.value.data==val:\n",
    "                print(\"The value is found and it is: \")\n",
    "                print(root_.value.data)\n",
    "                break\n",
    "            if root_.value.left is not None:\n",
    "                q.enqueue(root_.value.left)\n",
    "                \n",
    "            if root_.value.right is not None:\n",
    "                q.enqueue(root_.value.right)"
   ]
  },
  {
   "cell_type": "code",
   "execution_count": 625,
   "id": "700c9bda-564f-4733-b90c-ff7910639c98",
   "metadata": {},
   "outputs": [
    {
     "name": "stdout",
     "output_type": "stream",
     "text": [
      "The value is found and it is: \n",
      "Tea\n"
     ]
    }
   ],
   "source": [
    "search_bin(root,\"Tea\")"
   ]
  },
  {
   "cell_type": "code",
   "execution_count": 626,
   "id": "c0d7e337-f0ca-4f65-8e4e-44bf03186b9d",
   "metadata": {},
   "outputs": [],
   "source": [
    "def insertion(root,val):\n",
    "    if not root:\n",
    "        return \n",
    "    else:\n",
    "        q=Queue()\n",
    "        q.enqueue(root)\n",
    "        while not q.is_empty():\n",
    "\n",
    "            root_=q.dequeue()\n",
    "#             print(root.value.data)\n",
    "            \n",
    "            if root_.value.left == None:\n",
    "                root_.value.left=Tree(val)\n",
    "                print(\"Value inserted at the desired location\")\n",
    "                break\n",
    "                \n",
    "            \n",
    "                \n",
    "            else:\n",
    "                q.enqueue(root_.value.left)\n",
    "\n",
    "            if root_.value.right == None:\n",
    "                root_.value.right=Tree(val)\n",
    "                break\n",
    "            \n",
    "            else:\n",
    "                q.enqueue(root_.value.right)\n",
    "                \n",
    "                \n"
   ]
  },
  {
   "cell_type": "code",
   "execution_count": 627,
   "id": "3b383830-35ae-4557-b54a-4657554f28b7",
   "metadata": {},
   "outputs": [
    {
     "name": "stdout",
     "output_type": "stream",
     "text": [
      "Value inserted at the desired location\n"
     ]
    }
   ],
   "source": [
    "insertion(root,\"Mahatma\")"
   ]
  },
  {
   "cell_type": "code",
   "execution_count": 628,
   "id": "0913c737-353d-4d85-a1c9-130225ed5833",
   "metadata": {},
   "outputs": [
    {
     "name": "stdout",
     "output_type": "stream",
     "text": [
      "Drinks\n",
      "Hot\n",
      "Cold\n",
      "Coffee\n",
      "Tea\n",
      "Sharbat\n",
      "Cold-drink\n",
      "Mahatma\n"
     ]
    }
   ],
   "source": [
    "level_order(root)"
   ]
  },
  {
   "cell_type": "code",
   "execution_count": 629,
   "id": "bebf4fd7-5a24-4232-9e4d-99f65b0d0fd8",
   "metadata": {},
   "outputs": [],
   "source": [
    "insertion(root,\"Gandhi\")"
   ]
  },
  {
   "cell_type": "code",
   "execution_count": 630,
   "id": "424b29b1-39ea-40ca-9f57-c48ea9401dc7",
   "metadata": {},
   "outputs": [
    {
     "name": "stdout",
     "output_type": "stream",
     "text": [
      "Drinks\n",
      "Hot\n",
      "Cold\n",
      "Coffee\n",
      "Tea\n",
      "Sharbat\n",
      "Cold-drink\n",
      "Mahatma\n",
      "Gandhi\n"
     ]
    }
   ],
   "source": [
    "level_order(root)"
   ]
  },
  {
   "cell_type": "code",
   "execution_count": 631,
   "id": "6728d2da-5b56-40da-8d2d-c5ecda8f3ace",
   "metadata": {},
   "outputs": [],
   "source": [
    "def deepest_node(root):\n",
    "    if not root:\n",
    "        return \n",
    "    else:\n",
    "        q=Queue()\n",
    "        q.enqueue(root)\n",
    "        while True:\n",
    "            if not q.is_empty():\n",
    "\n",
    "                root_=q.dequeue()\n",
    "#                 print(root.value.data)\n",
    "\n",
    "                if root_.value.left is not None:\n",
    "                    q.enqueue(root_.value.left)\n",
    "\n",
    "                if root_.value.right is not None:\n",
    "                    q.enqueue(root_.value.right)\n",
    "\n",
    "            else : return root_.value\n"
   ]
  },
  {
   "cell_type": "code",
   "execution_count": 632,
   "id": "018957ea-ae78-4549-a20d-bebabce0ced7",
   "metadata": {},
   "outputs": [],
   "source": [
    "last_node=deepest_node(root)"
   ]
  },
  {
   "cell_type": "code",
   "execution_count": 633,
   "id": "2d2de184-15d7-446a-8363-6792056df9cd",
   "metadata": {},
   "outputs": [
    {
     "data": {
      "text/plain": [
       "'Gandhi'"
      ]
     },
     "execution_count": 633,
     "metadata": {},
     "output_type": "execute_result"
    }
   ],
   "source": [
    "last_node.data"
   ]
  },
  {
   "cell_type": "code",
   "execution_count": 634,
   "id": "99dcd7ba-131e-4c15-972d-d0e51fb72886",
   "metadata": {},
   "outputs": [
    {
     "data": {
      "text/plain": [
       "<__main__.Tree at 0x1cd02bf36d0>"
      ]
     },
     "execution_count": 634,
     "metadata": {},
     "output_type": "execute_result"
    }
   ],
   "source": [
    "last_node"
   ]
  },
  {
   "cell_type": "code",
   "execution_count": 635,
   "id": "be2e1cd2-7ec5-4a3f-a397-8281b3d25ad1",
   "metadata": {},
   "outputs": [
    {
     "data": {
      "text/plain": [
       "'Gandhi'"
      ]
     },
     "execution_count": 635,
     "metadata": {},
     "output_type": "execute_result"
    }
   ],
   "source": [
    "last_node.data"
   ]
  },
  {
   "cell_type": "code",
   "execution_count": 636,
   "id": "fd801aaf-910a-4e9d-8e55-4731c0f49f56",
   "metadata": {},
   "outputs": [
    {
     "name": "stdout",
     "output_type": "stream",
     "text": [
      "Drinks\n",
      "Hot\n",
      "Cold\n",
      "Coffee\n",
      "Tea\n",
      "Sharbat\n",
      "Cold-drink\n",
      "Mahatma\n",
      "Gandhi\n"
     ]
    }
   ],
   "source": [
    "level_order(root)"
   ]
  },
  {
   "cell_type": "code",
   "execution_count": 637,
   "id": "f6afc40a-f7cd-4814-8715-dc29be0c72d7",
   "metadata": {},
   "outputs": [],
   "source": [
    "def del_deepest_node(root,dnode):\n",
    "#     dnode=deepest_node(root)\n",
    "    if not root:\n",
    "        return\n",
    "    else:\n",
    "        q=Queue()\n",
    "        q.enqueue(root)\n",
    "        \n",
    "        while not q.is_empty():\n",
    "            \n",
    "            root_= q.dequeue().value\n",
    "#             print(\"The current node is: \" ,root_.data,root)\n",
    "#             print(\"The deepest node is : \",dnode.data, dnode)\n",
    "            \n",
    "            if root_== dnode:\n",
    "                print(\"True\")\n",
    "                dnode= None\n",
    "#                 print(\"The deepest node is : \",root_.data, dnode)\n",
    "                return\n",
    "            \n",
    "            else:\n",
    "\n",
    "                if root_.left is not None:\n",
    "                    if root_.left== dnode:\n",
    "                        root_.left=None\n",
    "                    else:\n",
    "                        q.enqueue(root_.left)\n",
    "\n",
    "                if root_.right is not None:\n",
    "                    if root_.right== dnode:\n",
    "                        root_.right=None\n",
    "                    else:\n",
    "                        q.enqueue(root_.right)\n",
    "\n",
    "        \n",
    "            "
   ]
  },
  {
   "cell_type": "code",
   "execution_count": 638,
   "id": "ff0d0a42-d39f-4193-b41f-d23101ab85c6",
   "metadata": {},
   "outputs": [],
   "source": [
    "def delete_node(root,val):\n",
    "    if not root:\n",
    "        return\n",
    "    \n",
    "    else:\n",
    "        q=Queue()\n",
    "        q.enqueue(root)\n",
    "        \n",
    "        while not q.is_empty():\n",
    "            root_=q.dequeue()\n",
    "            if root_.value.data==val:\n",
    "                root_.value.data=deepest_node(root).data\n",
    "                del_deepest_node(root,deepest_node(root))\n",
    "                return\n",
    "           \n",
    "            if root_.value.left is not None:\n",
    "                q.enqueue(root_.value.left)\n",
    "\n",
    "            if root_.value.right is not None:\n",
    "                q.enqueue(root_.value.right)\n",
    "                    \n",
    "        return \"failed to delete\"\n",
    "\n",
    "                \n",
    "                "
   ]
  },
  {
   "cell_type": "raw",
   "id": "d8359a53-13aa-45e3-bb82-945f09b8b836",
   "metadata": {},
   "source": [
    "d"
   ]
  },
  {
   "cell_type": "code",
   "execution_count": 639,
   "id": "c44853f6-0599-4b76-b4b8-1b2b39324d19",
   "metadata": {},
   "outputs": [
    {
     "data": {
      "text/plain": [
       "'failed to delete'"
      ]
     },
     "execution_count": 639,
     "metadata": {},
     "output_type": "execute_result"
    }
   ],
   "source": [
    "delete_node(root,4)"
   ]
  },
  {
   "cell_type": "code",
   "execution_count": 640,
   "id": "e523105a-d09c-4f4e-bb3e-858cc80d10ce",
   "metadata": {},
   "outputs": [],
   "source": [
    "delete_node(root,\"Drinks\")"
   ]
  },
  {
   "cell_type": "code",
   "execution_count": 641,
   "id": "dbf10bab-e3fb-4148-835f-500fa4fffff5",
   "metadata": {},
   "outputs": [
    {
     "name": "stdout",
     "output_type": "stream",
     "text": [
      "Gandhi\n",
      "Hot\n",
      "Cold\n",
      "Coffee\n",
      "Tea\n",
      "Sharbat\n",
      "Cold-drink\n",
      "Mahatma\n"
     ]
    }
   ],
   "source": [
    "level_order(root)"
   ]
  },
  {
   "cell_type": "code",
   "execution_count": 642,
   "id": "bdde763a-d4cd-4856-900c-bfb900f324b1",
   "metadata": {},
   "outputs": [],
   "source": [
    "delete_node(root,\"Mahatma\")"
   ]
  },
  {
   "cell_type": "code",
   "execution_count": 643,
   "id": "4beef1da-e7c1-4e4c-abd9-0a7476e6ebd0",
   "metadata": {},
   "outputs": [
    {
     "name": "stdout",
     "output_type": "stream",
     "text": [
      "Gandhi\n",
      "Hot\n",
      "Cold\n",
      "Coffee\n",
      "Tea\n",
      "Sharbat\n",
      "Cold-drink\n"
     ]
    }
   ],
   "source": [
    "level_order(root)"
   ]
  },
  {
   "cell_type": "code",
   "execution_count": 644,
   "id": "d93f105e-8c46-4bdc-847b-d3ffc2eb810e",
   "metadata": {},
   "outputs": [],
   "source": [
    "def del_entire(root):\n",
    "    if not root:\n",
    "        return\n",
    "    \n",
    "    else:\n",
    "        root.left= None\n",
    "        root.right =None\n",
    "        root.data=None"
   ]
  },
  {
   "cell_type": "code",
   "execution_count": 645,
   "id": "732def74-5814-4192-9c8b-cfad815f4bb2",
   "metadata": {},
   "outputs": [],
   "source": [
    "del_entire(root)"
   ]
  },
  {
   "cell_type": "code",
   "execution_count": 646,
   "id": "0ea14d6e-637e-45c2-9235-b3689bf5d957",
   "metadata": {},
   "outputs": [
    {
     "name": "stdout",
     "output_type": "stream",
     "text": [
      "None\n"
     ]
    }
   ],
   "source": [
    "level_order(root)"
   ]
  },
  {
   "cell_type": "code",
   "execution_count": null,
   "id": "c5c8157e-b4cd-4435-82eb-4b8a5948c341",
   "metadata": {},
   "outputs": [],
   "source": []
  }
 ],
 "metadata": {
  "kernelspec": {
   "display_name": "Python 3",
   "language": "python",
   "name": "python3"
  },
  "language_info": {
   "codemirror_mode": {
    "name": "ipython",
    "version": 3
   },
   "file_extension": ".py",
   "mimetype": "text/x-python",
   "name": "python",
   "nbconvert_exporter": "python",
   "pygments_lexer": "ipython3",
   "version": "3.8.5"
  }
 },
 "nbformat": 4,
 "nbformat_minor": 5
}
