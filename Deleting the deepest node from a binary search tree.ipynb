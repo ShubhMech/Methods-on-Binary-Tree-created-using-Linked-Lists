{
 "cells": [
  {
   "cell_type": "code",
   "execution_count": 469,
   "id": "3268e131-117a-4481-acc2-950a297d6c57",
   "metadata": {},
   "outputs": [],
   "source": [
    "class Tree:\n",
    "    def __init__(self,data):\n",
    "        self.data=data\n",
    "        self.left=None\n",
    "        self.right=None\n",
    "\n"
   ]
  },
  {
   "cell_type": "code",
   "execution_count": 470,
   "id": "e1ba24f3-9479-4dc5-aabd-d9ecd100a9b3",
   "metadata": {},
   "outputs": [],
   "source": [
    "root=Tree(\"Drinks\")\n"
   ]
  },
  {
   "cell_type": "code",
   "execution_count": 471,
   "id": "b047c2e6-a0c6-4ba9-ab0a-885715d71112",
   "metadata": {},
   "outputs": [],
   "source": [
    "hot=Tree(\"Hot\")"
   ]
  },
  {
   "cell_type": "code",
   "execution_count": 472,
   "id": "98b36c70-a0b1-45e6-b670-bd8478f68405",
   "metadata": {},
   "outputs": [],
   "source": [
    "cold=Tree(\"Cold\")"
   ]
  },
  {
   "cell_type": "code",
   "execution_count": 473,
   "id": "9a2b59ff-d498-46b6-9c9b-f979949411e6",
   "metadata": {},
   "outputs": [],
   "source": [
    "root.left=hot\n",
    "root.right=cold"
   ]
  },
  {
   "cell_type": "code",
   "execution_count": 474,
   "id": "df001603-ea4e-429e-bc7c-6666e72c7511",
   "metadata": {},
   "outputs": [],
   "source": [
    "coffee=Tree(\"Coffee\")\n",
    "tea=Tree(\"Tea\")"
   ]
  },
  {
   "cell_type": "code",
   "execution_count": 475,
   "id": "6ae3cb62-5485-412d-996f-d70641f2ffa0",
   "metadata": {},
   "outputs": [],
   "source": [
    "cold_drink=Tree(\"Cold-drink\")\n",
    "sharbat=Tree(\"Sharbat\")"
   ]
  },
  {
   "cell_type": "code",
   "execution_count": 476,
   "id": "454b6b5e-cf7c-413a-ba71-eee274d26c5c",
   "metadata": {},
   "outputs": [],
   "source": [
    "hot.left=coffee\n",
    "hot.right=tea"
   ]
  },
  {
   "cell_type": "code",
   "execution_count": 477,
   "id": "572dcad8-b3e6-429c-b7e3-6e3b8e7bb0ae",
   "metadata": {},
   "outputs": [],
   "source": [
    "cold.left=sharbat\n",
    "cold.right=cold_drink"
   ]
  },
  {
   "cell_type": "code",
   "execution_count": 478,
   "id": "f89348b8-d386-43a6-88a1-ae2d2dc78e8c",
   "metadata": {},
   "outputs": [],
   "source": [
    "def tree_traversal(node):\n",
    "    if not node:\n",
    "        return\n",
    "    print(\"The value at current node is: \", node.data)\n",
    "    \n",
    "    tree_traversal(node.left)\n",
    "    tree_traversal(node.right)"
   ]
  },
  {
   "cell_type": "code",
   "execution_count": 479,
   "id": "7706f91a-a5f9-49cd-93a7-0458a0e31fa1",
   "metadata": {},
   "outputs": [
    {
     "data": {
      "text/plain": [
       "<__main__.Tree at 0x1cd02b01e50>"
      ]
     },
     "execution_count": 479,
     "metadata": {},
     "output_type": "execute_result"
    }
   ],
   "source": [
    "tree_traversal\n",
    "(root)"
   ]
  },
  {
   "cell_type": "code",
   "execution_count": 480,
   "id": "382e408f-17bd-4113-b67f-5f1ad40f15c2",
   "metadata": {},
   "outputs": [],
   "source": [
    "def inorder_traversal(node):\n",
    "    if not node:\n",
    "        return\n",
    "    inorder_traversal(node.left)\n",
    "    print(\"The value at current node is: \", node.data, node)\n",
    "    inorder_traversal(node.right)"
   ]
  },
  {
   "cell_type": "code",
   "execution_count": 481,
   "id": "ac268b1a-14c4-4bde-b606-b420f5846041",
   "metadata": {},
   "outputs": [
    {
     "name": "stdout",
     "output_type": "stream",
     "text": [
      "The value at current node is:  Coffee <__main__.Tree object at 0x000001CD02C695E0>\n",
      "The value at current node is:  Hot <__main__.Tree object at 0x000001CD028881F0>\n",
      "The value at current node is:  Tea <__main__.Tree object at 0x000001CD02C69B50>\n",
      "The value at current node is:  Drinks <__main__.Tree object at 0x000001CD02B01E50>\n",
      "The value at current node is:  Sharbat <__main__.Tree object at 0x000001CD02C69040>\n",
      "The value at current node is:  Cold <__main__.Tree object at 0x000001CD02BE3580>\n",
      "The value at current node is:  Cold-drink <__main__.Tree object at 0x000001CD02C69700>\n"
     ]
    }
   ],
   "source": [
    "inorder_traversal(root)"
   ]
  },
  {
   "cell_type": "code",
   "execution_count": 482,
   "id": "e929e1bf-90c7-408d-a40c-5ccd7c2eade7",
   "metadata": {},
   "outputs": [],
   "source": [
    "def post_order_traversal(node):\n",
    "    if not node:\n",
    "        return\n",
    "    inorder_traversal(node.left)\n",
    "    \n",
    "    inorder_traversal(node.right)\n",
    "    \n",
    "    print(\"The value at current node is: \", node.data)"
   ]
  },
  {
   "cell_type": "code",
   "execution_count": 483,
   "id": "653a1818-fff7-4bfb-829e-c1a7a79e9d14",
   "metadata": {},
   "outputs": [
    {
     "name": "stdout",
     "output_type": "stream",
     "text": [
      "The value at current node is:  Coffee <__main__.Tree object at 0x000001CD02C695E0>\n",
      "The value at current node is:  Hot <__main__.Tree object at 0x000001CD028881F0>\n",
      "The value at current node is:  Tea <__main__.Tree object at 0x000001CD02C69B50>\n",
      "The value at current node is:  Sharbat <__main__.Tree object at 0x000001CD02C69040>\n",
      "The value at current node is:  Cold <__main__.Tree object at 0x000001CD02BE3580>\n",
      "The value at current node is:  Cold-drink <__main__.Tree object at 0x000001CD02C69700>\n",
      "The value at current node is:  Drinks\n"
     ]
    }
   ],
   "source": [
    "post_order_traversal(root)"
   ]
  },
  {
   "cell_type": "code",
   "execution_count": 484,
   "id": "62924547-cc71-4fca-9e7e-29c6d6c91230",
   "metadata": {},
   "outputs": [],
   "source": [
    "class Nodes:\n",
    "    def __init__(self,value):\n",
    "        self.value=value\n",
    "        self.next=None\n",
    "        \n",
    "class Linked_List:\n",
    "    def __init__(self):\n",
    "        self.head=None\n",
    "        self.tail=None\n",
    "\n",
    "class Queue:\n",
    "    def __init__(self):\n",
    "        self.items=Linked_List()\n",
    "        \n",
    "    def enqueue(self,value):\n",
    "        node=Nodes(value)\n",
    "        if self.items.head is not None:\n",
    "        \n",
    "            self.items.tail.next=node\n",
    "            self.items.tail=node\n",
    "            \n",
    "        else:\n",
    "            self.items.head=node\n",
    "            self.items.tail=node\n",
    "            \n",
    "    def is_empty(self):\n",
    "        if self.items.head is None:\n",
    "            return True\n",
    "        else:\n",
    "            return False\n",
    "    \n",
    "    \n",
    "    def dequeue(self):\n",
    "        if self.is_empty():\n",
    "            return \"Can't dequeue, dumbass!\"\n",
    "        else:\n",
    "            temp=self.items.head\n",
    "#             temp1=temp\n",
    "            \n",
    "            if self.items.head==self.items.tail:\n",
    "                \n",
    "                self.items.tail=None\n",
    "                self.items.head=None\n",
    "                \n",
    "            else:\n",
    "                self.items.head=self.items.head.next\n",
    "                \n",
    "            return temp\n",
    "    \n",
    "    def peep(self):\n",
    "        if self.is_empty():\n",
    "            return \"Can't peep, dumbass!\"\n",
    "        else:\n",
    "            return self.items.head.value\n",
    "            \n",
    "    def delete(self):\n",
    "        if self.is_empty():\n",
    "            return \"Can't delete, dumbass!\"\n",
    "        else:\n",
    "            self.items.head, self.items.tail=None\n",
    "            return self.items.head.value"
   ]
  },
  {
   "cell_type": "code",
   "execution_count": 485,
   "id": "eef725fb-699e-4516-951f-713371f3a349",
   "metadata": {},
   "outputs": [],
   "source": [
    "def level_order(root):\n",
    "    if not root:\n",
    "        return \n",
    "    else:\n",
    "        q=Queue()\n",
    "        q.enqueue(root)\n",
    "        while not q.is_empty():\n",
    "\n",
    "            root_=q.dequeue()\n",
    "            print(root_.value.data, root_.value)\n",
    "            if root_.value.left is not None:\n",
    "                q.enqueue(root_.value.left)\n",
    "                \n",
    "            if root_.value.right is not None:\n",
    "                q.enqueue(root_.value.right)\n",
    "        \n",
    "    "
   ]
  },
  {
   "cell_type": "code",
   "execution_count": 486,
   "id": "0be03dbe-d9b5-4fa3-bc8b-a0f412a38103",
   "metadata": {},
   "outputs": [
    {
     "name": "stdout",
     "output_type": "stream",
     "text": [
      "Drinks <__main__.Tree object at 0x000001CD02B01E50>\n",
      "Hot <__main__.Tree object at 0x000001CD028881F0>\n",
      "Cold <__main__.Tree object at 0x000001CD02BE3580>\n",
      "Coffee <__main__.Tree object at 0x000001CD02C695E0>\n",
      "Tea <__main__.Tree object at 0x000001CD02C69B50>\n",
      "Sharbat <__main__.Tree object at 0x000001CD02C69040>\n",
      "Cold-drink <__main__.Tree object at 0x000001CD02C69700>\n"
     ]
    }
   ],
   "source": [
    "level_order(root)"
   ]
  },
  {
   "cell_type": "code",
   "execution_count": 487,
   "id": "389c2538-ddd1-470d-976e-b6bd8f4f40d1",
   "metadata": {},
   "outputs": [],
   "source": [
    "q=Queue()"
   ]
  },
  {
   "cell_type": "code",
   "execution_count": 488,
   "id": "cd00c9ef-8724-4e47-9786-ecfc6f953055",
   "metadata": {},
   "outputs": [],
   "source": [
    "q.enqueue(root)"
   ]
  },
  {
   "cell_type": "code",
   "execution_count": 489,
   "id": "4a988cff-04c5-4325-b944-e1356f47c798",
   "metadata": {},
   "outputs": [
    {
     "data": {
      "text/plain": [
       "<__main__.Tree at 0x1cd02b01e50>"
      ]
     },
     "execution_count": 489,
     "metadata": {},
     "output_type": "execute_result"
    }
   ],
   "source": [
    "q.items.head.value"
   ]
  },
  {
   "cell_type": "code",
   "execution_count": 490,
   "id": "a3adab1d-479b-4468-8a68-6c893176e871",
   "metadata": {},
   "outputs": [],
   "source": [
    "def search_bin(root,val):\n",
    "    if not root:\n",
    "        return \"The bin tree doesn't exist!\"\n",
    "    else:\n",
    "        q=Queue()\n",
    "        q.enqueue(root)\n",
    "        while not q.is_empty():\n",
    "\n",
    "            root_=q.dequeue()\n",
    "            if root_.value.data==val:\n",
    "                print(\"The value is found and it is: \")\n",
    "                print(root_.value.data)\n",
    "                break\n",
    "            if root_.value.left is not None:\n",
    "                q.enqueue(root_.value.left)\n",
    "                \n",
    "            if root_.value.right is not None:\n",
    "                q.enqueue(root_.value.right)"
   ]
  },
  {
   "cell_type": "code",
   "execution_count": 491,
   "id": "700c9bda-564f-4733-b90c-ff7910639c98",
   "metadata": {},
   "outputs": [
    {
     "name": "stdout",
     "output_type": "stream",
     "text": [
      "The value is found and it is: \n",
      "Tea\n"
     ]
    }
   ],
   "source": [
    "search_bin(root,\"Tea\")"
   ]
  },
  {
   "cell_type": "code",
   "execution_count": 492,
   "id": "c0d7e337-f0ca-4f65-8e4e-44bf03186b9d",
   "metadata": {},
   "outputs": [],
   "source": [
    "def insertion(root,val):\n",
    "    if not root:\n",
    "        return \n",
    "    else:\n",
    "        q=Queue()\n",
    "        q.enqueue(root)\n",
    "        while not q.is_empty():\n",
    "\n",
    "            root_=q.dequeue()\n",
    "#             print(root.value.data)\n",
    "            \n",
    "            if root_.value.left == None:\n",
    "                root_.value.left=Tree(val)\n",
    "                print(\"Value inserted at the desired location\")\n",
    "                break\n",
    "                \n",
    "            \n",
    "                \n",
    "            else:\n",
    "                q.enqueue(root_.value.left)\n",
    "\n",
    "            if root_.value.right == None:\n",
    "                root_.value.right=Tree(val)\n",
    "                break\n",
    "            \n",
    "            else:\n",
    "                q.enqueue(root_.value.right)\n",
    "                \n",
    "                \n"
   ]
  },
  {
   "cell_type": "code",
   "execution_count": 493,
   "id": "3b383830-35ae-4557-b54a-4657554f28b7",
   "metadata": {},
   "outputs": [
    {
     "name": "stdout",
     "output_type": "stream",
     "text": [
      "Value inserted at the desired location\n"
     ]
    }
   ],
   "source": [
    "insertion(root,\"Mahatma\")"
   ]
  },
  {
   "cell_type": "code",
   "execution_count": 494,
   "id": "0913c737-353d-4d85-a1c9-130225ed5833",
   "metadata": {},
   "outputs": [
    {
     "name": "stdout",
     "output_type": "stream",
     "text": [
      "Drinks <__main__.Tree object at 0x000001CD02B01E50>\n",
      "Hot <__main__.Tree object at 0x000001CD028881F0>\n",
      "Cold <__main__.Tree object at 0x000001CD02BE3580>\n",
      "Coffee <__main__.Tree object at 0x000001CD02C695E0>\n",
      "Tea <__main__.Tree object at 0x000001CD02C69B50>\n",
      "Sharbat <__main__.Tree object at 0x000001CD02C69040>\n",
      "Cold-drink <__main__.Tree object at 0x000001CD02C69700>\n",
      "Mahatma <__main__.Tree object at 0x000001CD02C9D8E0>\n"
     ]
    }
   ],
   "source": [
    "level_order(root)"
   ]
  },
  {
   "cell_type": "code",
   "execution_count": 495,
   "id": "bebf4fd7-5a24-4232-9e4d-99f65b0d0fd8",
   "metadata": {},
   "outputs": [],
   "source": [
    "insertion(root,\"Gandhi\")"
   ]
  },
  {
   "cell_type": "code",
   "execution_count": 496,
   "id": "424b29b1-39ea-40ca-9f57-c48ea9401dc7",
   "metadata": {},
   "outputs": [
    {
     "name": "stdout",
     "output_type": "stream",
     "text": [
      "Drinks <__main__.Tree object at 0x000001CD02B01E50>\n",
      "Hot <__main__.Tree object at 0x000001CD028881F0>\n",
      "Cold <__main__.Tree object at 0x000001CD02BE3580>\n",
      "Coffee <__main__.Tree object at 0x000001CD02C695E0>\n",
      "Tea <__main__.Tree object at 0x000001CD02C69B50>\n",
      "Sharbat <__main__.Tree object at 0x000001CD02C69040>\n",
      "Cold-drink <__main__.Tree object at 0x000001CD02C69700>\n",
      "Mahatma <__main__.Tree object at 0x000001CD02C9D8E0>\n",
      "Gandhi <__main__.Tree object at 0x000001CD02C53E50>\n"
     ]
    }
   ],
   "source": [
    "level_order(root)"
   ]
  },
  {
   "cell_type": "code",
   "execution_count": 497,
   "id": "6728d2da-5b56-40da-8d2d-c5ecda8f3ace",
   "metadata": {},
   "outputs": [],
   "source": [
    "def deepest_node(root):\n",
    "    if not root:\n",
    "        return \n",
    "    else:\n",
    "        q=Queue()\n",
    "        q.enqueue(root)\n",
    "        while True:\n",
    "            if not q.is_empty():\n",
    "\n",
    "                root_=q.dequeue()\n",
    "#                 print(root.value.data)\n",
    "\n",
    "                if root_.value.left is not None:\n",
    "                    q.enqueue(root_.value.left)\n",
    "\n",
    "                if root_.value.right is not None:\n",
    "                    q.enqueue(root_.value.right)\n",
    "\n",
    "            else : return root_.value\n"
   ]
  },
  {
   "cell_type": "code",
   "execution_count": 498,
   "id": "018957ea-ae78-4549-a20d-bebabce0ced7",
   "metadata": {},
   "outputs": [],
   "source": [
    "last_node=deepest_node(root)"
   ]
  },
  {
   "cell_type": "code",
   "execution_count": 499,
   "id": "2d2de184-15d7-446a-8363-6792056df9cd",
   "metadata": {},
   "outputs": [
    {
     "data": {
      "text/plain": [
       "'Gandhi'"
      ]
     },
     "execution_count": 499,
     "metadata": {},
     "output_type": "execute_result"
    }
   ],
   "source": [
    "last_node.data"
   ]
  },
  {
   "cell_type": "code",
   "execution_count": 500,
   "id": "99dcd7ba-131e-4c15-972d-d0e51fb72886",
   "metadata": {},
   "outputs": [
    {
     "data": {
      "text/plain": [
       "<__main__.Tree at 0x1cd02c53e50>"
      ]
     },
     "execution_count": 500,
     "metadata": {},
     "output_type": "execute_result"
    }
   ],
   "source": [
    "last_node"
   ]
  },
  {
   "cell_type": "code",
   "execution_count": 501,
   "id": "be2e1cd2-7ec5-4a3f-a397-8281b3d25ad1",
   "metadata": {},
   "outputs": [
    {
     "data": {
      "text/plain": [
       "'Gandhi'"
      ]
     },
     "execution_count": 501,
     "metadata": {},
     "output_type": "execute_result"
    }
   ],
   "source": [
    "last_node.data"
   ]
  },
  {
   "cell_type": "code",
   "execution_count": 502,
   "id": "fd801aaf-910a-4e9d-8e55-4731c0f49f56",
   "metadata": {},
   "outputs": [
    {
     "name": "stdout",
     "output_type": "stream",
     "text": [
      "Drinks <__main__.Tree object at 0x000001CD02B01E50>\n",
      "Hot <__main__.Tree object at 0x000001CD028881F0>\n",
      "Cold <__main__.Tree object at 0x000001CD02BE3580>\n",
      "Coffee <__main__.Tree object at 0x000001CD02C695E0>\n",
      "Tea <__main__.Tree object at 0x000001CD02C69B50>\n",
      "Sharbat <__main__.Tree object at 0x000001CD02C69040>\n",
      "Cold-drink <__main__.Tree object at 0x000001CD02C69700>\n",
      "Mahatma <__main__.Tree object at 0x000001CD02C9D8E0>\n",
      "Gandhi <__main__.Tree object at 0x000001CD02C53E50>\n"
     ]
    }
   ],
   "source": [
    "level_order(root)"
   ]
  },
  {
   "cell_type": "code",
   "execution_count": 503,
   "id": "f6afc40a-f7cd-4814-8715-dc29be0c72d7",
   "metadata": {},
   "outputs": [],
   "source": [
    "def del_deepest_node(root,dnode):\n",
    "#     dnode=deepest_node(root)\n",
    "    if not root:\n",
    "        return\n",
    "    else:\n",
    "        q=Queue()\n",
    "        q.enqueue(root)\n",
    "        \n",
    "        while not q.is_empty():\n",
    "            \n",
    "            root_= q.dequeue().value\n",
    "#             print(\"The current node is: \" ,root_.data,root)\n",
    "#             print(\"The deepest node is : \",dnode.data, dnode)\n",
    "            \n",
    "            if root_== dnode:\n",
    "                print(\"True\")\n",
    "                dnode= None\n",
    "#                 print(\"The deepest node is : \",root_.data, dnode)\n",
    "                return\n",
    "            \n",
    "            else:\n",
    "\n",
    "                if root_.left is not None:\n",
    "                    if root_.left== dnode:\n",
    "                        root_.left=None\n",
    "                    else:\n",
    "                        q.enqueue(root_.left)\n",
    "\n",
    "                if root_.right is not None:\n",
    "                    if root_.right== dnode:\n",
    "                        root_.right=None\n",
    "                    else:\n",
    "                        q.enqueue(root_.right)\n",
    "\n",
    "        \n",
    "            "
   ]
  },
  {
   "cell_type": "code",
   "execution_count": 504,
   "id": "534455ed-5a4f-488f-bb06-a9e1747cc81f",
   "metadata": {},
   "outputs": [
    {
     "data": {
      "text/plain": [
       "<__main__.Tree at 0x1cd02c53e50>"
      ]
     },
     "execution_count": 504,
     "metadata": {},
     "output_type": "execute_result"
    }
   ],
   "source": [
    "last_node"
   ]
  },
  {
   "cell_type": "code",
   "execution_count": 505,
   "id": "dbf60e34-80df-499f-b374-f47da38eec21",
   "metadata": {},
   "outputs": [],
   "source": [
    "del_deepest_node(root,last_node)"
   ]
  },
  {
   "cell_type": "code",
   "execution_count": 506,
   "id": "2ae5f3a0-f27b-4467-95c5-b230c50fbc46",
   "metadata": {},
   "outputs": [
    {
     "name": "stdout",
     "output_type": "stream",
     "text": [
      "Drinks <__main__.Tree object at 0x000001CD02B01E50>\n",
      "Hot <__main__.Tree object at 0x000001CD028881F0>\n",
      "Cold <__main__.Tree object at 0x000001CD02BE3580>\n",
      "Coffee <__main__.Tree object at 0x000001CD02C695E0>\n",
      "Tea <__main__.Tree object at 0x000001CD02C69B50>\n",
      "Sharbat <__main__.Tree object at 0x000001CD02C69040>\n",
      "Cold-drink <__main__.Tree object at 0x000001CD02C69700>\n",
      "Mahatma <__main__.Tree object at 0x000001CD02C9D8E0>\n"
     ]
    }
   ],
   "source": [
    "level_order(root)"
   ]
  },
  {
   "cell_type": "code",
   "execution_count": null,
   "id": "3658d661-9753-4fa5-9ae4-1e0f320f1636",
   "metadata": {},
   "outputs": [],
   "source": []
  },
  {
   "cell_type": "code",
   "execution_count": null,
   "id": "450ce4e3-00c0-431d-94f6-2215aa321acd",
   "metadata": {},
   "outputs": [],
   "source": []
  },
  {
   "cell_type": "code",
   "execution_count": null,
   "id": "06b90d3b-ed39-4dab-bb76-a2ea6e886cb9",
   "metadata": {},
   "outputs": [],
   "source": []
  },
  {
   "cell_type": "code",
   "execution_count": null,
   "id": "97004b87-c87f-4a23-9bdb-47ac1d653b35",
   "metadata": {},
   "outputs": [],
   "source": []
  },
  {
   "cell_type": "code",
   "execution_count": null,
   "id": "ff0d0a42-d39f-4193-b41f-d23101ab85c6",
   "metadata": {},
   "outputs": [],
   "source": []
  },
  {
   "cell_type": "raw",
   "id": "d8359a53-13aa-45e3-bb82-945f09b8b836",
   "metadata": {},
   "source": []
  },
  {
   "cell_type": "code",
   "execution_count": null,
   "id": "c44853f6-0599-4b76-b4b8-1b2b39324d19",
   "metadata": {},
   "outputs": [],
   "source": []
  },
  {
   "cell_type": "code",
   "execution_count": null,
   "id": "e523105a-d09c-4f4e-bb3e-858cc80d10ce",
   "metadata": {},
   "outputs": [],
   "source": []
  }
 ],
 "metadata": {
  "kernelspec": {
   "display_name": "Python 3",
   "language": "python",
   "name": "python3"
  },
  "language_info": {
   "codemirror_mode": {
    "name": "ipython",
    "version": 3
   },
   "file_extension": ".py",
   "mimetype": "text/x-python",
   "name": "python",
   "nbconvert_exporter": "python",
   "pygments_lexer": "ipython3",
   "version": "3.8.5"
  }
 },
 "nbformat": 4,
 "nbformat_minor": 5
}
