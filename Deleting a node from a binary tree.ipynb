{
 "cells": [
  {
   "cell_type": "code",
   "execution_count": 557,
   "id": "3268e131-117a-4481-acc2-950a297d6c57",
   "metadata": {},
   "outputs": [],
   "source": [
    "class Tree:\n",
    "    def __init__(self,data):\n",
    "        self.data=data\n",
    "        self.left=None\n",
    "        self.right=None\n",
    "\n"
   ]
  },
  {
   "cell_type": "code",
   "execution_count": 558,
   "id": "e1ba24f3-9479-4dc5-aabd-d9ecd100a9b3",
   "metadata": {},
   "outputs": [],
   "source": [
    "root=Tree(\"Drinks\")\n"
   ]
  },
  {
   "cell_type": "code",
   "execution_count": 559,
   "id": "b047c2e6-a0c6-4ba9-ab0a-885715d71112",
   "metadata": {},
   "outputs": [],
   "source": [
    "hot=Tree(\"Hot\")"
   ]
  },
  {
   "cell_type": "code",
   "execution_count": 560,
   "id": "98b36c70-a0b1-45e6-b670-bd8478f68405",
   "metadata": {},
   "outputs": [],
   "source": [
    "cold=Tree(\"Cold\")"
   ]
  },
  {
   "cell_type": "code",
   "execution_count": 561,
   "id": "9a2b59ff-d498-46b6-9c9b-f979949411e6",
   "metadata": {},
   "outputs": [],
   "source": [
    "root.left=hot\n",
    "root.right=cold"
   ]
  },
  {
   "cell_type": "code",
   "execution_count": 562,
   "id": "df001603-ea4e-429e-bc7c-6666e72c7511",
   "metadata": {},
   "outputs": [],
   "source": [
    "coffee=Tree(\"Coffee\")\n",
    "tea=Tree(\"Tea\")"
   ]
  },
  {
   "cell_type": "code",
   "execution_count": 563,
   "id": "6ae3cb62-5485-412d-996f-d70641f2ffa0",
   "metadata": {},
   "outputs": [],
   "source": [
    "cold_drink=Tree(\"Cold-drink\")\n",
    "sharbat=Tree(\"Sharbat\")"
   ]
  },
  {
   "cell_type": "code",
   "execution_count": 564,
   "id": "454b6b5e-cf7c-413a-ba71-eee274d26c5c",
   "metadata": {},
   "outputs": [],
   "source": [
    "hot.left=coffee\n",
    "hot.right=tea"
   ]
  },
  {
   "cell_type": "code",
   "execution_count": 565,
   "id": "572dcad8-b3e6-429c-b7e3-6e3b8e7bb0ae",
   "metadata": {},
   "outputs": [],
   "source": [
    "cold.left=sharbat\n",
    "cold.right=cold_drink"
   ]
  },
  {
   "cell_type": "code",
   "execution_count": 566,
   "id": "f89348b8-d386-43a6-88a1-ae2d2dc78e8c",
   "metadata": {},
   "outputs": [],
   "source": [
    "def tree_traversal(node):\n",
    "    if not node:\n",
    "        return\n",
    "    print(\"The value at current node is: \", node.data)\n",
    "    \n",
    "    tree_traversal(node.left)\n",
    "    tree_traversal(node.right)"
   ]
  },
  {
   "cell_type": "code",
   "execution_count": 567,
   "id": "7706f91a-a5f9-49cd-93a7-0458a0e31fa1",
   "metadata": {},
   "outputs": [
    {
     "data": {
      "text/plain": [
       "<__main__.Tree at 0x1cd03b65790>"
      ]
     },
     "execution_count": 567,
     "metadata": {},
     "output_type": "execute_result"
    }
   ],
   "source": [
    "tree_traversal\n",
    "(root)"
   ]
  },
  {
   "cell_type": "code",
   "execution_count": 568,
   "id": "382e408f-17bd-4113-b67f-5f1ad40f15c2",
   "metadata": {},
   "outputs": [],
   "source": [
    "def inorder_traversal(node):\n",
    "    if not node:\n",
    "        return\n",
    "    inorder_traversal(node.left)\n",
    "    print(\"The value at current node is: \", node.data, node)\n",
    "    inorder_traversal(node.right)"
   ]
  },
  {
   "cell_type": "code",
   "execution_count": 569,
   "id": "ac268b1a-14c4-4bde-b606-b420f5846041",
   "metadata": {},
   "outputs": [
    {
     "name": "stdout",
     "output_type": "stream",
     "text": [
      "The value at current node is:  Coffee <__main__.Tree object at 0x000001CD02B0B2E0>\n",
      "The value at current node is:  Hot <__main__.Tree object at 0x000001CD03B65310>\n",
      "The value at current node is:  Tea <__main__.Tree object at 0x000001CD02B0BE50>\n",
      "The value at current node is:  Drinks <__main__.Tree object at 0x000001CD03B65790>\n",
      "The value at current node is:  Sharbat <__main__.Tree object at 0x000001CD03B65760>\n",
      "The value at current node is:  Cold <__main__.Tree object at 0x000001CD03B654F0>\n",
      "The value at current node is:  Cold-drink <__main__.Tree object at 0x000001CD03B658B0>\n"
     ]
    }
   ],
   "source": [
    "inorder_traversal(root)"
   ]
  },
  {
   "cell_type": "code",
   "execution_count": 570,
   "id": "e929e1bf-90c7-408d-a40c-5ccd7c2eade7",
   "metadata": {},
   "outputs": [],
   "source": [
    "def post_order_traversal(node):\n",
    "    if not node:\n",
    "        return\n",
    "    inorder_traversal(node.left)\n",
    "    \n",
    "    inorder_traversal(node.right)\n",
    "    \n",
    "    print(\"The value at current node is: \", node.data)"
   ]
  },
  {
   "cell_type": "code",
   "execution_count": 571,
   "id": "653a1818-fff7-4bfb-829e-c1a7a79e9d14",
   "metadata": {},
   "outputs": [
    {
     "name": "stdout",
     "output_type": "stream",
     "text": [
      "The value at current node is:  Coffee <__main__.Tree object at 0x000001CD02B0B2E0>\n",
      "The value at current node is:  Hot <__main__.Tree object at 0x000001CD03B65310>\n",
      "The value at current node is:  Tea <__main__.Tree object at 0x000001CD02B0BE50>\n",
      "The value at current node is:  Sharbat <__main__.Tree object at 0x000001CD03B65760>\n",
      "The value at current node is:  Cold <__main__.Tree object at 0x000001CD03B654F0>\n",
      "The value at current node is:  Cold-drink <__main__.Tree object at 0x000001CD03B658B0>\n",
      "The value at current node is:  Drinks\n"
     ]
    }
   ],
   "source": [
    "post_order_traversal(root)"
   ]
  },
  {
   "cell_type": "code",
   "execution_count": 572,
   "id": "62924547-cc71-4fca-9e7e-29c6d6c91230",
   "metadata": {},
   "outputs": [],
   "source": [
    "class Nodes:\n",
    "    def __init__(self,value):\n",
    "        self.value=value\n",
    "        self.next=None\n",
    "        \n",
    "class Linked_List:\n",
    "    def __init__(self):\n",
    "        self.head=None\n",
    "        self.tail=None\n",
    "\n",
    "class Queue:\n",
    "    def __init__(self):\n",
    "        self.items=Linked_List()\n",
    "        \n",
    "    def enqueue(self,value):\n",
    "        node=Nodes(value)\n",
    "        if self.items.head is not None:\n",
    "        \n",
    "            self.items.tail.next=node\n",
    "            self.items.tail=node\n",
    "            \n",
    "        else:\n",
    "            self.items.head=node\n",
    "            self.items.tail=node\n",
    "            \n",
    "    def is_empty(self):\n",
    "        if self.items.head is None:\n",
    "            return True\n",
    "        else:\n",
    "            return False\n",
    "    \n",
    "    \n",
    "    def dequeue(self):\n",
    "        if self.is_empty():\n",
    "            return \"Can't dequeue, dumbass!\"\n",
    "        else:\n",
    "            temp=self.items.head\n",
    "#             temp1=temp\n",
    "            \n",
    "            if self.items.head==self.items.tail:\n",
    "                \n",
    "                self.items.tail=None\n",
    "                self.items.head=None\n",
    "                \n",
    "            else:\n",
    "                self.items.head=self.items.head.next\n",
    "                \n",
    "            return temp\n",
    "    \n",
    "    def peep(self):\n",
    "        if self.is_empty():\n",
    "            return \"Can't peep, dumbass!\"\n",
    "        else:\n",
    "            return self.items.head.value\n",
    "            \n",
    "    def delete(self):\n",
    "        if self.is_empty():\n",
    "            return \"Can't delete, dumbass!\"\n",
    "        else:\n",
    "            self.items.head, self.items.tail=None\n",
    "            return self.items.head.value"
   ]
  },
  {
   "cell_type": "code",
   "execution_count": 573,
   "id": "eef725fb-699e-4516-951f-713371f3a349",
   "metadata": {},
   "outputs": [],
   "source": [
    "def level_order(root):\n",
    "    if not root:\n",
    "        return \n",
    "    else:\n",
    "        q=Queue()\n",
    "        q.enqueue(root)\n",
    "        while not q.is_empty():\n",
    "\n",
    "            root_=q.dequeue()\n",
    "            print(root_.value.data, root_.value)\n",
    "            if root_.value.left is not None:\n",
    "                q.enqueue(root_.value.left)\n",
    "                \n",
    "            if root_.value.right is not None:\n",
    "                q.enqueue(root_.value.right)\n",
    "        \n",
    "    "
   ]
  },
  {
   "cell_type": "code",
   "execution_count": 574,
   "id": "0be03dbe-d9b5-4fa3-bc8b-a0f412a38103",
   "metadata": {},
   "outputs": [
    {
     "name": "stdout",
     "output_type": "stream",
     "text": [
      "Drinks <__main__.Tree object at 0x000001CD03B65790>\n",
      "Hot <__main__.Tree object at 0x000001CD03B65310>\n",
      "Cold <__main__.Tree object at 0x000001CD03B654F0>\n",
      "Coffee <__main__.Tree object at 0x000001CD02B0B2E0>\n",
      "Tea <__main__.Tree object at 0x000001CD02B0BE50>\n",
      "Sharbat <__main__.Tree object at 0x000001CD03B65760>\n",
      "Cold-drink <__main__.Tree object at 0x000001CD03B658B0>\n"
     ]
    }
   ],
   "source": [
    "level_order(root)"
   ]
  },
  {
   "cell_type": "code",
   "execution_count": 575,
   "id": "389c2538-ddd1-470d-976e-b6bd8f4f40d1",
   "metadata": {},
   "outputs": [],
   "source": [
    "q=Queue()"
   ]
  },
  {
   "cell_type": "code",
   "execution_count": 576,
   "id": "cd00c9ef-8724-4e47-9786-ecfc6f953055",
   "metadata": {},
   "outputs": [],
   "source": [
    "q.enqueue(root)"
   ]
  },
  {
   "cell_type": "code",
   "execution_count": 577,
   "id": "4a988cff-04c5-4325-b944-e1356f47c798",
   "metadata": {},
   "outputs": [
    {
     "data": {
      "text/plain": [
       "<__main__.Tree at 0x1cd03b65790>"
      ]
     },
     "execution_count": 577,
     "metadata": {},
     "output_type": "execute_result"
    }
   ],
   "source": [
    "q.items.head.value"
   ]
  },
  {
   "cell_type": "code",
   "execution_count": 578,
   "id": "a3adab1d-479b-4468-8a68-6c893176e871",
   "metadata": {},
   "outputs": [],
   "source": [
    "def search_bin(root,val):\n",
    "    if not root:\n",
    "        return \"The bin tree doesn't exist!\"\n",
    "    else:\n",
    "        q=Queue()\n",
    "        q.enqueue(root)\n",
    "        while not q.is_empty():\n",
    "\n",
    "            root_=q.dequeue()\n",
    "            if root_.value.data==val:\n",
    "                print(\"The value is found and it is: \")\n",
    "                print(root_.value.data)\n",
    "                break\n",
    "            if root_.value.left is not None:\n",
    "                q.enqueue(root_.value.left)\n",
    "                \n",
    "            if root_.value.right is not None:\n",
    "                q.enqueue(root_.value.right)"
   ]
  },
  {
   "cell_type": "code",
   "execution_count": 579,
   "id": "700c9bda-564f-4733-b90c-ff7910639c98",
   "metadata": {},
   "outputs": [
    {
     "name": "stdout",
     "output_type": "stream",
     "text": [
      "The value is found and it is: \n",
      "Tea\n"
     ]
    }
   ],
   "source": [
    "search_bin(root,\"Tea\")"
   ]
  },
  {
   "cell_type": "code",
   "execution_count": 580,
   "id": "c0d7e337-f0ca-4f65-8e4e-44bf03186b9d",
   "metadata": {},
   "outputs": [],
   "source": [
    "def insertion(root,val):\n",
    "    if not root:\n",
    "        return \n",
    "    else:\n",
    "        q=Queue()\n",
    "        q.enqueue(root)\n",
    "        while not q.is_empty():\n",
    "\n",
    "            root_=q.dequeue()\n",
    "#             print(root.value.data)\n",
    "            \n",
    "            if root_.value.left == None:\n",
    "                root_.value.left=Tree(val)\n",
    "                print(\"Value inserted at the desired location\")\n",
    "                break\n",
    "                \n",
    "            \n",
    "                \n",
    "            else:\n",
    "                q.enqueue(root_.value.left)\n",
    "\n",
    "            if root_.value.right == None:\n",
    "                root_.value.right=Tree(val)\n",
    "                break\n",
    "            \n",
    "            else:\n",
    "                q.enqueue(root_.value.right)\n",
    "                \n",
    "                \n"
   ]
  },
  {
   "cell_type": "code",
   "execution_count": 581,
   "id": "3b383830-35ae-4557-b54a-4657554f28b7",
   "metadata": {},
   "outputs": [
    {
     "name": "stdout",
     "output_type": "stream",
     "text": [
      "Value inserted at the desired location\n"
     ]
    }
   ],
   "source": [
    "insertion(root,\"Mahatma\")"
   ]
  },
  {
   "cell_type": "code",
   "execution_count": 582,
   "id": "0913c737-353d-4d85-a1c9-130225ed5833",
   "metadata": {},
   "outputs": [
    {
     "name": "stdout",
     "output_type": "stream",
     "text": [
      "Drinks <__main__.Tree object at 0x000001CD03B65790>\n",
      "Hot <__main__.Tree object at 0x000001CD03B65310>\n",
      "Cold <__main__.Tree object at 0x000001CD03B654F0>\n",
      "Coffee <__main__.Tree object at 0x000001CD02B0B2E0>\n",
      "Tea <__main__.Tree object at 0x000001CD02B0BE50>\n",
      "Sharbat <__main__.Tree object at 0x000001CD03B65760>\n",
      "Cold-drink <__main__.Tree object at 0x000001CD03B658B0>\n",
      "Mahatma <__main__.Tree object at 0x000001CD03B491F0>\n"
     ]
    }
   ],
   "source": [
    "level_order(root)"
   ]
  },
  {
   "cell_type": "code",
   "execution_count": 583,
   "id": "bebf4fd7-5a24-4232-9e4d-99f65b0d0fd8",
   "metadata": {},
   "outputs": [],
   "source": [
    "insertion(root,\"Gandhi\")"
   ]
  },
  {
   "cell_type": "code",
   "execution_count": 584,
   "id": "424b29b1-39ea-40ca-9f57-c48ea9401dc7",
   "metadata": {},
   "outputs": [
    {
     "name": "stdout",
     "output_type": "stream",
     "text": [
      "Drinks <__main__.Tree object at 0x000001CD03B65790>\n",
      "Hot <__main__.Tree object at 0x000001CD03B65310>\n",
      "Cold <__main__.Tree object at 0x000001CD03B654F0>\n",
      "Coffee <__main__.Tree object at 0x000001CD02B0B2E0>\n",
      "Tea <__main__.Tree object at 0x000001CD02B0BE50>\n",
      "Sharbat <__main__.Tree object at 0x000001CD03B65760>\n",
      "Cold-drink <__main__.Tree object at 0x000001CD03B658B0>\n",
      "Mahatma <__main__.Tree object at 0x000001CD03B491F0>\n",
      "Gandhi <__main__.Tree object at 0x000001CD02C9D9A0>\n"
     ]
    }
   ],
   "source": [
    "level_order(root)"
   ]
  },
  {
   "cell_type": "code",
   "execution_count": 585,
   "id": "6728d2da-5b56-40da-8d2d-c5ecda8f3ace",
   "metadata": {},
   "outputs": [],
   "source": [
    "def deepest_node(root):\n",
    "    if not root:\n",
    "        return \n",
    "    else:\n",
    "        q=Queue()\n",
    "        q.enqueue(root)\n",
    "        while True:\n",
    "            if not q.is_empty():\n",
    "\n",
    "                root_=q.dequeue()\n",
    "#                 print(root.value.data)\n",
    "\n",
    "                if root_.value.left is not None:\n",
    "                    q.enqueue(root_.value.left)\n",
    "\n",
    "                if root_.value.right is not None:\n",
    "                    q.enqueue(root_.value.right)\n",
    "\n",
    "            else : return root_.value\n"
   ]
  },
  {
   "cell_type": "code",
   "execution_count": 586,
   "id": "018957ea-ae78-4549-a20d-bebabce0ced7",
   "metadata": {},
   "outputs": [],
   "source": [
    "last_node=deepest_node(root)"
   ]
  },
  {
   "cell_type": "code",
   "execution_count": 587,
   "id": "2d2de184-15d7-446a-8363-6792056df9cd",
   "metadata": {},
   "outputs": [
    {
     "data": {
      "text/plain": [
       "'Gandhi'"
      ]
     },
     "execution_count": 587,
     "metadata": {},
     "output_type": "execute_result"
    }
   ],
   "source": [
    "last_node.data"
   ]
  },
  {
   "cell_type": "code",
   "execution_count": 588,
   "id": "99dcd7ba-131e-4c15-972d-d0e51fb72886",
   "metadata": {},
   "outputs": [
    {
     "data": {
      "text/plain": [
       "<__main__.Tree at 0x1cd02c9d9a0>"
      ]
     },
     "execution_count": 588,
     "metadata": {},
     "output_type": "execute_result"
    }
   ],
   "source": [
    "last_node"
   ]
  },
  {
   "cell_type": "code",
   "execution_count": 589,
   "id": "be2e1cd2-7ec5-4a3f-a397-8281b3d25ad1",
   "metadata": {},
   "outputs": [
    {
     "data": {
      "text/plain": [
       "'Gandhi'"
      ]
     },
     "execution_count": 589,
     "metadata": {},
     "output_type": "execute_result"
    }
   ],
   "source": [
    "last_node.data"
   ]
  },
  {
   "cell_type": "code",
   "execution_count": 590,
   "id": "fd801aaf-910a-4e9d-8e55-4731c0f49f56",
   "metadata": {},
   "outputs": [
    {
     "name": "stdout",
     "output_type": "stream",
     "text": [
      "Drinks <__main__.Tree object at 0x000001CD03B65790>\n",
      "Hot <__main__.Tree object at 0x000001CD03B65310>\n",
      "Cold <__main__.Tree object at 0x000001CD03B654F0>\n",
      "Coffee <__main__.Tree object at 0x000001CD02B0B2E0>\n",
      "Tea <__main__.Tree object at 0x000001CD02B0BE50>\n",
      "Sharbat <__main__.Tree object at 0x000001CD03B65760>\n",
      "Cold-drink <__main__.Tree object at 0x000001CD03B658B0>\n",
      "Mahatma <__main__.Tree object at 0x000001CD03B491F0>\n",
      "Gandhi <__main__.Tree object at 0x000001CD02C9D9A0>\n"
     ]
    }
   ],
   "source": [
    "level_order(root)"
   ]
  },
  {
   "cell_type": "code",
   "execution_count": 591,
   "id": "f6afc40a-f7cd-4814-8715-dc29be0c72d7",
   "metadata": {},
   "outputs": [],
   "source": [
    "def del_deepest_node(root,dnode):\n",
    "#     dnode=deepest_node(root)\n",
    "    if not root:\n",
    "        return\n",
    "    else:\n",
    "        q=Queue()\n",
    "        q.enqueue(root)\n",
    "        \n",
    "        while not q.is_empty():\n",
    "            \n",
    "            root_= q.dequeue().value\n",
    "#             print(\"The current node is: \" ,root_.data,root)\n",
    "#             print(\"The deepest node is : \",dnode.data, dnode)\n",
    "            \n",
    "            if root_== dnode:\n",
    "                print(\"True\")\n",
    "                dnode= None\n",
    "#                 print(\"The deepest node is : \",root_.data, dnode)\n",
    "                return\n",
    "            \n",
    "            else:\n",
    "\n",
    "                if root_.left is not None:\n",
    "                    if root_.left== dnode:\n",
    "                        root_.left=None\n",
    "                    else:\n",
    "                        q.enqueue(root_.left)\n",
    "\n",
    "                if root_.right is not None:\n",
    "                    if root_.right== dnode:\n",
    "                        root_.right=None\n",
    "                    else:\n",
    "                        q.enqueue(root_.right)\n",
    "\n",
    "        \n",
    "            "
   ]
  },
  {
   "cell_type": "code",
   "execution_count": 592,
   "id": "ff0d0a42-d39f-4193-b41f-d23101ab85c6",
   "metadata": {},
   "outputs": [],
   "source": [
    "def delete_node(root,val):\n",
    "    if not root:\n",
    "        return\n",
    "    \n",
    "    else:\n",
    "        q=Queue()\n",
    "        q.enqueue(root)\n",
    "        \n",
    "        while not q.is_empty():\n",
    "            root_=q.dequeue()\n",
    "            if root_.value.data==val:\n",
    "                root_.value.data=deepest_node(root).data\n",
    "                del_deepest_node(root,deepest_node(root))\n",
    "                return\n",
    "           \n",
    "            if root_.value.left is not None:\n",
    "                q.enqueue(root_.value.left)\n",
    "\n",
    "            if root_.value.right is not None:\n",
    "                q.enqueue(root_.value.right)\n",
    "                    \n",
    "        return \"failed to delete\"\n",
    "\n",
    "                \n",
    "                "
   ]
  },
  {
   "cell_type": "raw",
   "id": "d8359a53-13aa-45e3-bb82-945f09b8b836",
   "metadata": {},
   "source": [
    "d"
   ]
  },
  {
   "cell_type": "code",
   "execution_count": 593,
   "id": "c44853f6-0599-4b76-b4b8-1b2b39324d19",
   "metadata": {},
   "outputs": [
    {
     "data": {
      "text/plain": [
       "'failed to delete'"
      ]
     },
     "execution_count": 593,
     "metadata": {},
     "output_type": "execute_result"
    }
   ],
   "source": [
    "delete_node(root,4)"
   ]
  },
  {
   "cell_type": "code",
   "execution_count": 594,
   "id": "e523105a-d09c-4f4e-bb3e-858cc80d10ce",
   "metadata": {},
   "outputs": [],
   "source": [
    "delete_node(root,\"Drinks\")"
   ]
  },
  {
   "cell_type": "code",
   "execution_count": 595,
   "id": "dbf10bab-e3fb-4148-835f-500fa4fffff5",
   "metadata": {},
   "outputs": [
    {
     "name": "stdout",
     "output_type": "stream",
     "text": [
      "Gandhi <__main__.Tree object at 0x000001CD03B65790>\n",
      "Hot <__main__.Tree object at 0x000001CD03B65310>\n",
      "Cold <__main__.Tree object at 0x000001CD03B654F0>\n",
      "Coffee <__main__.Tree object at 0x000001CD02B0B2E0>\n",
      "Tea <__main__.Tree object at 0x000001CD02B0BE50>\n",
      "Sharbat <__main__.Tree object at 0x000001CD03B65760>\n",
      "Cold-drink <__main__.Tree object at 0x000001CD03B658B0>\n",
      "Mahatma <__main__.Tree object at 0x000001CD03B491F0>\n"
     ]
    }
   ],
   "source": [
    "level_order(root)"
   ]
  },
  {
   "cell_type": "code",
   "execution_count": 596,
   "id": "bdde763a-d4cd-4856-900c-bfb900f324b1",
   "metadata": {},
   "outputs": [],
   "source": [
    "delete_node(root,\"Mahatma\")"
   ]
  },
  {
   "cell_type": "code",
   "execution_count": 597,
   "id": "4beef1da-e7c1-4e4c-abd9-0a7476e6ebd0",
   "metadata": {},
   "outputs": [
    {
     "name": "stdout",
     "output_type": "stream",
     "text": [
      "Gandhi <__main__.Tree object at 0x000001CD03B65790>\n",
      "Hot <__main__.Tree object at 0x000001CD03B65310>\n",
      "Cold <__main__.Tree object at 0x000001CD03B654F0>\n",
      "Coffee <__main__.Tree object at 0x000001CD02B0B2E0>\n",
      "Tea <__main__.Tree object at 0x000001CD02B0BE50>\n",
      "Sharbat <__main__.Tree object at 0x000001CD03B65760>\n",
      "Cold-drink <__main__.Tree object at 0x000001CD03B658B0>\n"
     ]
    }
   ],
   "source": [
    "level_order(root)"
   ]
  },
  {
   "cell_type": "code",
   "execution_count": null,
   "id": "d93f105e-8c46-4bdc-847b-d3ffc2eb810e",
   "metadata": {},
   "outputs": [],
   "source": []
  }
 ],
 "metadata": {
  "kernelspec": {
   "display_name": "Python 3",
   "language": "python",
   "name": "python3"
  },
  "language_info": {
   "codemirror_mode": {
    "name": "ipython",
    "version": 3
   },
   "file_extension": ".py",
   "mimetype": "text/x-python",
   "name": "python",
   "nbconvert_exporter": "python",
   "pygments_lexer": "ipython3",
   "version": "3.8.5"
  }
 },
 "nbformat": 4,
 "nbformat_minor": 5
}
